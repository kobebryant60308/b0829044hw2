{
 "cells": [
  {
   "cell_type": "code",
   "execution_count": 1,
   "id": "6e1c5023-b8be-405d-9cec-54401d1c8294",
   "metadata": {},
   "outputs": [],
   "source": [
    "#我的方法~"
   ]
  },
  {
   "cell_type": "code",
   "execution_count": 2,
   "id": "f6c508d6-e0c8-4b7b-999b-dc4567c24444",
   "metadata": {},
   "outputs": [],
   "source": [
    "import numpy as np"
   ]
  },
  {
   "cell_type": "code",
   "execution_count": 3,
   "id": "d9513779-aa82-4b97-a5a7-98a27bd25221",
   "metadata": {},
   "outputs": [],
   "source": [
    "import tensorflow.keras as keras"
   ]
  },
  {
   "cell_type": "code",
   "execution_count": 4,
   "id": "c08d396d-ce54-46cc-9567-18f3a0c75f96",
   "metadata": {},
   "outputs": [],
   "source": [
    "import tensorflow as tf"
   ]
  },
  {
   "cell_type": "code",
   "execution_count": 5,
   "id": "ef7d8bc7-1713-47f4-b45f-e2fc897389c7",
   "metadata": {},
   "outputs": [
    {
     "data": {
      "text/plain": [
       "((60000, 28, 28), (60000,), (10000, 28, 28), (10000,))"
      ]
     },
     "execution_count": 5,
     "metadata": {},
     "output_type": "execute_result"
    }
   ],
   "source": [
    "(x1_test,y1_test), (x2_test,y2_test)= keras. datasets.mnist.load_data()#(x1_test=train_image，y1_test=train_label),(x2_test=test_image,y2_test=test_label)\n",
    "x1_test.shape, y1_test.shape, x2_test.shape, y2_test.shape"
   ]
  },
  {
   "cell_type": "code",
   "execution_count": 6,
   "id": "89396da0-f9a2-400a-8f8c-f44576eec5b6",
   "metadata": {},
   "outputs": [
    {
     "name": "stdout",
     "output_type": "stream",
     "text": [
      "  0  0  0  0  0  0  0  0  0  0  0  0  0  0  0  0  0  0  0  0  0  0  0  0  0  0  0  0\n",
      "  0  0  0  0  0  0  0  0  0  0  0  0  0  0  0  0  0  0  0  0  0  0  0  0  0  0  0  0\n",
      "  0  0  0  0  0  0  0  0  0  0  0  0  0  0  0  0  0  0  0  0  0  0  0  0  0  0  0  0\n",
      "  0  0  0  0  0  0  0  0  0  0  0  0  0  0  0  0 34169250 40  0  0  0  0  0  0  0  0\n",
      "  0  0  0  0  0  0  0  0  0  0  0  0  0  0  0 58242221143 17  0  0  0  0  0  0  0  0\n",
      "  0  0  0  0  0  0  0  0  0  0  0  0  0  0 75247143 10  0  0  0  0  0  0  0  0  0  0\n",
      "  0  0  0  0  0  0  0  0  0  0  0  0  0 37245184  2  0  0  0  0  0  0  0  0  0  0  0\n",
      "  0  0  0  0  0  0  0  0  0  0  0  0  8192200 14  0  0  0  0  0  0  0  0  0  0  0  0\n",
      "  0  0  0  0  0  0  0  0  0  0  0  0139247 28  0  0  0  0  0  0  0  0  0  0  0  0  0\n",
      "  0  0  0  0  0  0  0  0  0  0  0  7231183  0  0  0  0  0  0  0  0  0  0  0  0  0  0\n",
      "  0  0  0  0  0  0  0  0  0  0  0125243 50  0  0  0  0  0  0  0  0  0  0  0  0  0  0\n",
      "  0  0  0  0  0  0  0  0  0  0  0195184  0  0  0  0  0  0  0  0  0  0  0  0  0  0  0\n",
      "  0  0  0  0  0  0  0  0  0  0 61251 41  0  0  0 64 43  0  0  0  0  0  0  0  0  0  0\n",
      "  0  0  0  0  0  0  0  0  0  0152210  7  0 96237254247107  0  0  0  0  0  0  0  0  0\n",
      "  0  0  0  0  0  0  0  0  0  0250 84  0  6223 84 13 87246 72  0  0  0  0  0  0  0  0\n",
      "  0  0  0  0  0  0  0  0  0 43254 80  0 56151  0  0  0147193  0  0  0  0  0  0  0  0\n",
      "  0  0  0  0  0  0  0  0  0 67254 41  0 13 19  0  0  0 42253  0  0  0  0  0  0  0  0\n",
      "  0  0  0  0  0  0  0  0  0 67254 13  0  0  0  0  0  0 14253  0  0  0  0  0  0  0  0\n",
      "  0  0  0  0  0  0  0  0  0 68255 13  0  0  0  0  0  0 77240  0  0  0  0  0  0  0  0\n",
      "  0  0  0  0  0  0  0  0  0 67254 13  0  0  0  0  0  5181147  0  0  0  0  0  0  0  0\n",
      "  0  0  0  0  0  0  0  0  0 25229105  0  0  0  0  5156213 20  0  0  0  0  0  0  0  0\n",
      "  0  0  0  0  0  0  0  0  0  0107246105 14 49 95217209 27  0  0  0  0  0  0  0  0  0\n",
      "  0  0  0  0  0  0  0  0  0  0  0107246253253240130  6  0  0  0  0  0  0  0  0  0  0\n",
      "  0  0  0  0  0  0  0  0  0  0  0  0  0  0  0  0  0  0  0  0  0  0  0  0  0  0  0  0\n",
      "  0  0  0  0  0  0  0  0  0  0  0  0  0  0  0  0  0  0  0  0  0  0  0  0  0  0  0  0\n",
      "  0  0  0  0  0  0  0  0  0  0  0  0  0  0  0  0  0  0  0  0  0  0  0  0  0  0  0  0\n",
      "  0  0  0  0  0  0  0  0  0  0  0  0  0  0  0  0  0  0  0  0  0  0  0  0  0  0  0  0\n",
      "  0  0  0  0  0  0  0  0  0  0  0  0  0  0  0  0  0  0  0  0  0  0  0  0  0  0  0  0\n"
     ]
    }
   ],
   "source": [
    "x= x1_test[18]\n",
    "for i in range(28):\n",
    "    for j in range(28):\n",
    "        z= x[i,j]\n",
    "        print(f'{z:3d}', end='')\n",
    "    print()\n",
    "    \n",
    "#range(28)代表由28X28矩陣所組成"
   ]
  },
  {
   "cell_type": "code",
   "execution_count": 7,
   "id": "20dbe963-9e54-4c35-b26a-138fccbb8106",
   "metadata": {},
   "outputs": [
    {
     "data": {
      "text/plain": [
       "<matplotlib.image.AxesImage at 0x1f6e8a57df0>"
      ]
     },
     "execution_count": 7,
     "metadata": {},
     "output_type": "execute_result"
    },
    {
     "data": {
      "image/png": "[encoded data removed]",
      "text/plain": [
       "<Figure size 432x288 with 1 Axes>"
      ]
     },
     "metadata": {
      "needs_background": "light"
     },
     "output_type": "display_data"
    }
   ],
   "source": [
    "import matplotlib.pyplot as pl\n",
    "\n",
    "pl.imshow(x)\n"
   ]
  },
  {
   "cell_type": "code",
   "execution_count": 8,
   "id": "2d47b792-54a9-485f-823a-be01a7939806",
   "metadata": {},
   "outputs": [],
   "source": [
    "from tensorflow.keras import models\n",
    "from tensorflow.keras import layers\n",
    "\n",
    "network = models.Sequential()\n",
    "network.add(layers.Dense(512,activation=\"relu\",input_shape=(28*28,)))\n",
    "network.add(layers.Dense(256,activation=\"relu\",input_shape=(28*28,)))\n",
    "network.add(layers.Dense(10,activation='softmax'))"
   ]
  },
  {
   "cell_type": "code",
   "execution_count": 9,
   "id": "766f2e97-3f8a-41ea-9ad4-576a49b30449",
   "metadata": {},
   "outputs": [],
   "source": [
    "network.compile(\n",
    "    optimizer = 'Nadam', # 指定優化器→控制梯度下降的確切規則\n",
    "    loss = 'categorical_crossentropy', # 指定損失函數\n",
    "    metrics = ['accuracy'] # 指定評量準則\n",
    ")"
   ]
  },
  {
   "cell_type": "code",
   "execution_count": 10,
   "id": "c536c9b2-256a-4648-a023-c4c1938f0cb9",
   "metadata": {},
   "outputs": [],
   "source": [
    "x1_test = x1_test.reshape((60000,28*28))\n",
    "x1_test = x1_test.astype('float32')/ 255\n",
    "\n",
    "x2_test = x2_test.reshape((10000,28*28))\n",
    "x2_test = x2_test.astype('float32')/ 255"
   ]
  },
  {
   "cell_type": "code",
   "execution_count": 11,
   "id": "a7c2a4d2-7738-440b-99fe-70744db77fcb",
   "metadata": {},
   "outputs": [],
   "source": [
    "#建模\n"
   ]
  },
  {
   "cell_type": "code",
   "execution_count": 12,
   "id": "fa948b4f-c4a7-49e8-a69b-873050e3033c",
   "metadata": {},
   "outputs": [],
   "source": [
    "from tensorflow.keras.utils import to_categorical\n",
    "\n",
    "y1_test = to_categorical(y1_test)\n",
    "y2_test = to_categorical(y2_test)"
   ]
  },
  {
   "cell_type": "code",
   "execution_count": 13,
   "id": "4b606ee2-91d1-4cea-b344-adff07a36c8d",
   "metadata": {},
   "outputs": [
    {
     "name": "stdout",
     "output_type": "stream",
     "text": [
      "Epoch 1/16\n",
      "375/375 [==============================] - 4s 8ms/step - loss: 0.2543 - accuracy: 0.9269 - val_loss: 0.1216 - val_accuracy: 0.9622\n",
      "Epoch 2/16\n",
      "375/375 [==============================] - 3s 8ms/step - loss: 0.0881 - accuracy: 0.9735 - val_loss: 0.0979 - val_accuracy: 0.9711\n",
      "Epoch 3/16\n",
      "375/375 [==============================] - 3s 8ms/step - loss: 0.0526 - accuracy: 0.9841 - val_loss: 0.0876 - val_accuracy: 0.9738\n",
      "Epoch 4/16\n",
      "375/375 [==============================] - 3s 8ms/step - loss: 0.0362 - accuracy: 0.9886 - val_loss: 0.0862 - val_accuracy: 0.9752\n",
      "Epoch 5/16\n",
      "375/375 [==============================] - 3s 8ms/step - loss: 0.0236 - accuracy: 0.9924 - val_loss: 0.1024 - val_accuracy: 0.9734\n",
      "Epoch 6/16\n",
      "375/375 [==============================] - 3s 8ms/step - loss: 0.0188 - accuracy: 0.9941 - val_loss: 0.0905 - val_accuracy: 0.9766\n",
      "Epoch 7/16\n",
      "375/375 [==============================] - 3s 8ms/step - loss: 0.0140 - accuracy: 0.9955 - val_loss: 0.0900 - val_accuracy: 0.9775\n",
      "Epoch 8/16\n",
      "375/375 [==============================] - 3s 8ms/step - loss: 0.0128 - accuracy: 0.9955 - val_loss: 0.1041 - val_accuracy: 0.9752\n",
      "Epoch 9/16\n",
      "375/375 [==============================] - 3s 8ms/step - loss: 0.0144 - accuracy: 0.9950 - val_loss: 0.0965 - val_accuracy: 0.9802\n",
      "Epoch 10/16\n",
      "375/375 [==============================] - 3s 8ms/step - loss: 0.0102 - accuracy: 0.9965 - val_loss: 0.1030 - val_accuracy: 0.9784\n",
      "Epoch 11/16\n",
      "375/375 [==============================] - 3s 8ms/step - loss: 0.0139 - accuracy: 0.9952 - val_loss: 0.1165 - val_accuracy: 0.9754\n",
      "Epoch 12/16\n",
      "375/375 [==============================] - 3s 8ms/step - loss: 0.0102 - accuracy: 0.9965 - val_loss: 0.1273 - val_accuracy: 0.9737\n",
      "Epoch 13/16\n",
      "375/375 [==============================] - 3s 8ms/step - loss: 0.0091 - accuracy: 0.9969 - val_loss: 0.1059 - val_accuracy: 0.9785\n",
      "Epoch 14/16\n",
      "375/375 [==============================] - 3s 8ms/step - loss: 0.0070 - accuracy: 0.9977 - val_loss: 0.1127 - val_accuracy: 0.9765\n",
      "Epoch 15/16\n",
      "375/375 [==============================] - 3s 8ms/step - loss: 0.0070 - accuracy: 0.9975 - val_loss: 0.1206 - val_accuracy: 0.9768\n",
      "Epoch 16/16\n",
      "375/375 [==============================] - 3s 8ms/step - loss: 0.0080 - accuracy: 0.9973 - val_loss: 0.1132 - val_accuracy: 0.9776\n"
     ]
    },
    {
     "data": {
      "text/plain": [
       "<keras.callbacks.History at 0x1f6e7ae3880>"
      ]
     },
     "execution_count": 13,
     "metadata": {},
     "output_type": "execute_result"
    }
   ],
   "source": [
    "network.fit(x1_test,y1_test,epochs=16,batch_size=128,validation_split=0.2)"
   ]
  },
  {
   "cell_type": "code",
   "execution_count": 14,
   "id": "875efeb1-bd8d-4715-bbb5-6a3e46c8892e",
   "metadata": {},
   "outputs": [
    {
     "name": "stdout",
     "output_type": "stream",
     "text": [
      "Model: \"sequential\"\n",
      "_________________________________________________________________\n",
      " Layer (type)                Output Shape              Param #   \n",
      "=================================================================\n",
      " dense (Dense)               (None, 512)               401920    \n",
      "                                                                 \n",
      " dense_1 (Dense)             (None, 256)               131328    \n",
      "                                                                 \n",
      " dense_2 (Dense)             (None, 10)                2570      \n",
      "                                                                 \n",
      "=================================================================\n",
      "Total params: 535,818\n",
      "Trainable params: 535,818\n",
      "Non-trainable params: 0\n",
      "_________________________________________________________________\n"
     ]
    },
    {
     "data": {
      "image/png": "[encoded data removed]",
      "text/plain": [
       "<IPython.core.display.Image object>"
      ]
     },
     "execution_count": 14,
     "metadata": {},
     "output_type": "execute_result"
    }
   ],
   "source": [
    "from tensorflow.keras.utils import plot_model\n",
    "network.summary()\n",
    "\n",
    "plot_model(network, \n",
    "    show_shapes= True,\n",
    ")"
   ]
  },
  {
   "cell_type": "code",
   "execution_count": 16,
   "id": "1022653b-cb74-4242-a096-8a69eeacb409",
   "metadata": {},
   "outputs": [
    {
     "name": "stdout",
     "output_type": "stream",
     "text": [
      "313/313 [==============================] - 1s 2ms/step - loss: 0.1055 - accuracy: 0.9794\n",
      "test_acc: 0.9793999791145325\n"
     ]
    }
   ],
   "source": [
    "test_loss , test_acc = network.evaluate(x2_test,y2_test)\n",
    "\n",
    "print('test_acc:',test_acc)\n"
   ]
  },
  {
   "cell_type": "code",
   "execution_count": null,
   "id": "ad34f1e4-bab5-4b2c-a433-890e2701b56a",
   "metadata": {},
   "outputs": [],
   "source": []
  },
  {
   "cell_type": "code",
   "execution_count": null,
   "id": "8afcc910-4fa8-4124-b64c-2f789957f4cd",
   "metadata": {},
   "outputs": [],
   "source": []
  }
 ],
 "metadata": {
  "kernelspec": {
   "display_name": "Python 3 (ipykernel)",
   "language": "python",
   "name": "python3"
  },
  "language_info": {
   "codemirror_mode": {
    "name": "ipython",
    "version": 3
   },
   "file_extension": ".py",
   "mimetype": "text/x-python",
   "name": "python",
   "nbconvert_exporter": "python",
   "pygments_lexer": "ipython3",
   "version": "3.9.7"
  }
 },
 "nbformat": 4,
 "nbformat_minor": 5
}
